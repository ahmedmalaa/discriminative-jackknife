{
 "cells": [
  {
   "cell_type": "markdown",
   "metadata": {},
   "source": [
    "#### International Conference on Machine Learning (ICML), 2020.\n",
    "\n",
    "## Discriminative Jackknife: Quantifying Uncertainty in Deep Learning via Influence Functions\n",
    "\n",
    "*Ahmed M. Alaa and Mihaela van der Schaar*"
   ]
  },
  {
   "cell_type": "markdown",
   "metadata": {},
   "source": [
    "Deep learning models achieve high predictive accuracy across a broad spectrum of tasks, but rigorously quantifying their predictive uncertainty remains challenging. Usable estimates of predictive uncertainty should (1) cover the true prediction targets with high probability, and (2) discriminate between high- and low-confidence prediction instances. The discriminative jackknife (DJ) is a frequentist procedure that utilizes *influence functions* of a model's loss functional to construct a jackknife (or leave-one-out) estimator of predictive confidence intervals. The DJ satisfies (1) and (2), is applicable to a wide range of deep learning models, is easy to implement, and can be applied in a post-hoc fashion without interfering with model training or compromising its accuracy. The current implementation of the DJ is limited to relatively small neural networks."
   ]
  },
  {
   "cell_type": "markdown",
   "metadata": {},
   "source": [
    "#### Step 1: Import all necessary libraries"
   ]
  },
  {
   "cell_type": "code",
   "execution_count": 2,
   "metadata": {
    "collapsed": false
   },
   "outputs": [],
   "source": [
    "import numpy as np\n",
    "from matplotlib import pyplot as plt\n",
    "%matplotlib inline \n",
    "\n",
    "from models.static import *\n",
    "from utils.performance import * "
   ]
  },
  {
   "cell_type": "markdown",
   "metadata": {},
   "source": [
    "#### Step 2: Set all data and model parameters"
   ]
  },
  {
   "cell_type": "code",
   "execution_count": 3,
   "metadata": {
    "collapsed": true
   },
   "outputs": [],
   "source": [
    "n_epochs     = 1000                                         # number of epochs\n",
    "n_dim        = 1                                            # number of features   \n",
    "activtn      = \"Tanh\"                                       # tanh activation function\n",
    "num_hidden   = 50                                           # number of hidden units\n",
    "num_layers   = 1                                            # number of layers\n",
    "verbosity    = False\n",
    "learn_rate   = 0.1                                          # learning rate for gradient descent \n",
    "\n",
    "params       = dict({\"n_dim\":n_dim,                         # model parameters \n",
    "                     \"activation\":activtn, \n",
    "                     \"num_hidden\":num_hidden,\n",
    "                     \"num_layers\":num_layers})\n",
    "\n",
    "train_params = dict({\"num_iter\":n_epochs,                   # training algorithm parameters\n",
    "                     \"verbosity\":verbosity, \n",
    "                     \"learning_rate\":learn_rate})"
   ]
  },
  {
   "cell_type": "markdown",
   "metadata": {},
   "source": [
    "#### Step 3: Generate synthetic data"
   ]
  },
  {
   "cell_type": "code",
   "execution_count": 4,
   "metadata": {
    "collapsed": true
   },
   "outputs": [],
   "source": [
    "def true_func(X):\n",
    "    \n",
    "    return (X**3)\n",
    "\n",
    "def sample_data(n_train=50, n_test=20, sigma=3):\n",
    "    \n",
    "    X_train  = np.random.uniform(-2, 2, size=n_train).reshape((-1, 1))  \n",
    "    \n",
    "    X_train  = np.random.normal(0, 1, size=n_train).reshape((-1, 1)) \n",
    "\n",
    "    noise    = np.random.normal(0, sigma**2, size=n_train).reshape((-1, 1))\n",
    "\n",
    "    Y_train  = true_func(X_train.reshape((-1, 1))) + noise\n",
    "    \n",
    "    X_test   = np.linspace(-6, 6, n_test).reshape((-1, 1))\n",
    "    Y_test   = true_func(X_test).reshape((-1,)) \n",
    "    \n",
    "    return X_train, Y_train, X_test, Y_test\n",
    "    "
   ]
  },
  {
   "cell_type": "code",
   "execution_count": 5,
   "metadata": {
    "collapsed": true
   },
   "outputs": [],
   "source": [
    "X_train, Y_train, X_test, Y_test = sample_data(n_train=200, n_test=100, sigma=2)"
   ]
  },
  {
   "cell_type": "markdown",
   "metadata": {},
   "source": [
    "#### Step 4: Instantiate and train a neural network model"
   ]
  },
  {
   "cell_type": "code",
   "execution_count": 6,
   "metadata": {
    "collapsed": true
   },
   "outputs": [],
   "source": [
    "DNN_model      = DNN(**params)\n",
    "    \n",
    "DNN_model.fit(X_train, Y_train)"
   ]
  },
  {
   "cell_type": "markdown",
   "metadata": {},
   "source": [
    "#### Step 5: Post-hoc uncertainty computation\n",
    "\n",
    "Our method computes uncertainty estimates in a post-hoc fashion. The function *DNN_uncertainty_wrapper* takes the trained DNN model as an input, and computes the influence functions per training point in order to evaluate confidence intervals on a new testing point. The object returned by *DNN_uncertainty_wrapper* is a super class containing the DNN object with extra attributes needed to computer confidence intervals on test data. "
   ]
  },
  {
   "cell_type": "code",
   "execution_count": 7,
   "metadata": {
    "collapsed": true
   },
   "outputs": [],
   "source": [
    "DJ_model       = DNN_uncertainty_wrapper(DNN_model, order=1, damp=1e-2)"
   ]
  },
  {
   "cell_type": "markdown",
   "metadata": {},
   "source": [
    "#### Step 6: Compute confidence intervals on testing data"
   ]
  },
  {
   "cell_type": "code",
   "execution_count": 8,
   "metadata": {
    "collapsed": true
   },
   "outputs": [],
   "source": [
    "y_pred, y_lower, y_upper = DJ_model.predict(X_test, coverage=.95)"
   ]
  },
  {
   "cell_type": "code",
   "execution_count": 14,
   "metadata": {
    "collapsed": false
   },
   "outputs": [
    {
     "data": {
      "text/plain": [
       "(-20, 20)"
      ]
     },
     "execution_count": 14,
     "metadata": {},
     "output_type": "execute_result"
    },
    {
     "data": {
      "image/png": "[encoded data removed]",
      "text/plain": [
       "<Figure size 432x288 with 1 Axes>"
      ]
     },
     "metadata": {
      "needs_background": "light"
     },
     "output_type": "display_data"
    }
   ],
   "source": [
    "plt.plot(X_test, y_pred, color=\"r\", linestyle=\"--\")\n",
    "plt.fill_between(X_test.reshape((-1,)), y_lower, y_upper, alpha=0.15, color=\"r\", linestyle=\":\")\n",
    "plt.plot(X_test, y_lower, linestyle=\"--\", color=\"black\")\n",
    "plt.plot(X_test, y_upper, linestyle=\"--\", color=\"black\")\n",
    "\n",
    "plt.plot(X_test, Y_test, linewidth=3, color=\"b\")\n",
    "plt.scatter(X_train, Y_train, alpha=0.45, color=\"r\")\n",
    "\n",
    "plt.xlim(-2, 2)\n",
    "plt.ylim(-20, 20)"
   ]
  },
  {
   "cell_type": "markdown",
   "metadata": {},
   "source": [
    "The experimental setup for generating the illustrative samples in Figure 3 are saved in *saved_models/DJ_Experiment_1_results*"
   ]
  }
 ],
 "metadata": {
  "kernelspec": {
   "display_name": "tensorflow",
   "language": "python",
   "name": "tensorflow"
  },
  "language_info": {
   "codemirror_mode": {
    "name": "ipython",
    "version": 3
   },
   "file_extension": ".py",
   "mimetype": "text/x-python",
   "name": "python",
   "nbconvert_exporter": "python",
   "pygments_lexer": "ipython3",
   "version": "3.6.1"
  }
 },
 "nbformat": 4,
 "nbformat_minor": 2
}
