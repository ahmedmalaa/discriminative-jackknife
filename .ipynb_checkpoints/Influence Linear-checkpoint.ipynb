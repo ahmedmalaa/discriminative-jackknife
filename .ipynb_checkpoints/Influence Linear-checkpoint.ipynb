{
 "cells": [
  {
   "cell_type": "code",
   "execution_count": 1,
   "metadata": {
    "collapsed": false
   },
   "outputs": [],
   "source": [
    "import numpy as np\n",
    "from matplotlib import pyplot as plt\n",
    "%matplotlib inline \n",
    "\n",
    "from influence.influence_computation import *\n",
    "from models.base_models import *\n",
    "from influence.influence_utils import *\n",
    "\n",
    "from models.sequential import *\n",
    "\n",
    "# Linear regression uncertainty\n",
    "# Multi-variate"
   ]
  },
  {
   "cell_type": "code",
   "execution_count": 57,
   "metadata": {
    "collapsed": false
   },
   "outputs": [],
   "source": [
    "# create dummy data for training\n",
    "n_sample = 5\n",
    "n_epochs = 500\n",
    "\n",
    "x_values = np.random.normal(0, 1, n_sample)\n",
    "x_train  = np.array(x_values, dtype=np.float32)\n",
    "x_train  = x_train.reshape(-1, 1)\n",
    "x_train  = np.sort(x_train, axis=0)\n",
    "\n",
    "#y_values = [x_train[i]**3 for i in range(len(x_train))]\n",
    "y_values = [3 * x_train[i] for i in range(len(x_train))]\n",
    "\n",
    "y_train  = np.array(y_values, dtype=np.float32)\n",
    "y_train  = np.array(y_train.reshape(-1, 1) + (2**2) * np.random.normal(size=n_sample).reshape(-1, 1), dtype=np.float32)\n",
    "\n",
    "x_test   = np.array(np.linspace(-5, 5, 100), dtype=np.float32)\n",
    "x_test   = x_test.reshape(-1, 1)"
   ]
  },
  {
   "cell_type": "code",
   "execution_count": null,
   "metadata": {
    "collapsed": false
   },
   "outputs": [],
   "source": []
  },
  {
   "cell_type": "code",
   "execution_count": null,
   "metadata": {
    "collapsed": false
   },
   "outputs": [],
   "source": [
    "num_iter = 100\n",
    "model    = DNN(num_layers=1, num_hidden=20, activation=\"Tanh\")\n",
    "\n",
    "model.fit(x_train, y_train, learning_rate=0.01, num_iter=num_iter, verbosity=True)"
   ]
  },
  {
   "cell_type": "code",
   "execution_count": null,
   "metadata": {
    "collapsed": false
   },
   "outputs": [],
   "source": [
    "model    = LinearRegression(inputDim=1, epochs=n_epochs) #\n",
    "\n",
    "model.fit(x_train, y_train)"
   ]
  },
  {
   "cell_type": "code",
   "execution_count": 59,
   "metadata": {
    "collapsed": false
   },
   "outputs": [
    {
     "data": {
      "image/png": "[encoded data removed]",
      "text/plain": [
       "<Figure size 432x288 with 1 Axes>"
      ]
     },
     "metadata": {
      "needs_background": "light"
     },
     "output_type": "display_data"
    }
   ],
   "source": [
    "y_pred   = model.predict(x_test)\n",
    "\n",
    "plt.clf()\n",
    "plt.plot(x_train, y_train, 'go', label='True data', alpha=0.5)\n",
    "plt.plot(x_test, y_pred, '--', label='Predictions', alpha=0.5)\n",
    "plt.legend(loc='best')\n",
    "plt.show()"
   ]
  },
  {
   "cell_type": "code",
   "execution_count": 60,
   "metadata": {
    "collapsed": false
   },
   "outputs": [
    {
     "name": "stdout",
     "output_type": "stream",
     "text": [
      "Parameter containing:\n",
      "tensor([[2.8810]], requires_grad=True)\n",
      "Parameter containing:\n",
      "tensor([1.7519], requires_grad=True)\n"
     ]
    }
   ],
   "source": [
    "params_ = []\n",
    "\n",
    "for param in model.parameters():\n",
    "    \n",
    "    print(param)\n",
    "    \n",
    "    params_.append(param)"
   ]
  },
  {
   "cell_type": "code",
   "execution_count": 61,
   "metadata": {
    "collapsed": true
   },
   "outputs": [],
   "source": [
    "data_index = 1"
   ]
  },
  {
   "cell_type": "code",
   "execution_count": null,
   "metadata": {
    "collapsed": false
   },
   "outputs": [],
   "source": [
    "import cProfile \n",
    "\n",
    "cProfile.run(\"influence_function(model, train_index=[data_index], mode='stochastic', batch_size=5, damp=0, scale=1000, recursion_depth=10000)\")"
   ]
  },
  {
   "cell_type": "code",
   "execution_count": null,
   "metadata": {
    "collapsed": false
   },
   "outputs": [],
   "source": []
  },
  {
   "cell_type": "code",
   "execution_count": null,
   "metadata": {
    "collapsed": false
   },
   "outputs": [],
   "source": [
    "IF = influence_function(model, \n",
    "                        train_index=[data_index], \n",
    "                        mode=\"stochastic\", \n",
    "                        batch_size=5, \n",
    "                        damp=0, \n",
    "                        scale=100, \n",
    "                        recursion_depth=10000)\n",
    "\n",
    "IF\n",
    "\n",
    "# not accurate for DNN\n",
    "# results do not match for DNN\n",
    "# results generaly do not match for damp > 0"
   ]
  },
  {
   "cell_type": "code",
   "execution_count": 62,
   "metadata": {
    "collapsed": false
   },
   "outputs": [
    {
     "data": {
      "text/plain": [
       "[tensor([[ 1.4384],\n",
       "         [-2.4598]], grad_fn=<DivBackward0>)]"
      ]
     },
     "execution_count": 62,
     "metadata": {},
     "output_type": "execute_result"
    }
   ],
   "source": [
    "IF = influence_function(model, train_index=[data_index], mode=\"exact\", damp=0)\n",
    "\n",
    "IF"
   ]
  },
  {
   "cell_type": "code",
   "execution_count": 67,
   "metadata": {
    "collapsed": false
   },
   "outputs": [
    {
     "data": {
      "text/plain": [
       "[tensor([[ 1.3954],\n",
       "         [-1.7529]], grad_fn=<DivBackward0>)]"
      ]
     },
     "execution_count": 67,
     "metadata": {},
     "output_type": "execute_result"
    }
   ],
   "source": [
    "IF = influence_function(model, train_index=[data_index], mode=\"exact\", damp=0, W=[0, 1, 0, 1, 0])\n",
    "\n",
    "IF"
   ]
  },
  {
   "cell_type": "code",
   "execution_count": null,
   "metadata": {
    "collapsed": false
   },
   "outputs": [],
   "source": []
  },
  {
   "cell_type": "code",
   "execution_count": 68,
   "metadata": {
    "collapsed": false
   },
   "outputs": [],
   "source": [
    "model_perturbed       = perturb_model_(model, IF[0])"
   ]
  },
  {
   "cell_type": "code",
   "execution_count": null,
   "metadata": {
    "collapsed": false
   },
   "outputs": [],
   "source": [
    "model_perturbed_exact = LinearRegression(inputDim=1, epochs=n_epochs) \n",
    "\n",
    "model_perturbed_exact.fit(np.delete(x_train, obj=data_index, axis=0), \n",
    "                          np.delete(y_train, obj=data_index, axis=0))\n",
    "\n",
    "#model_perturbed_exact.fit(np.delete(x_train, obj=[0, 1], axis=0), \n",
    "#                          np.delete(y_train, obj=[0, 1], axis=0))"
   ]
  },
  {
   "cell_type": "code",
   "execution_count": null,
   "metadata": {
    "collapsed": false
   },
   "outputs": [],
   "source": [
    "model_perturbed_exact = DNN(num_layers=1, num_hidden=20, activation=\"Tanh\") \n",
    "\n",
    "model_perturbed_exact.fit(np.delete(x_train, obj=data_index, axis=0), \n",
    "                          np.delete(y_train, obj=data_index, axis=0), \n",
    "                          learning_rate=0.01, num_iter=num_iter, verbosity=True)"
   ]
  },
  {
   "cell_type": "code",
   "execution_count": null,
   "metadata": {
    "collapsed": false
   },
   "outputs": [],
   "source": []
  },
  {
   "cell_type": "code",
   "execution_count": 70,
   "metadata": {
    "collapsed": false
   },
   "outputs": [
    {
     "data": {
      "image/png": "[encoded data removed]",
      "text/plain": [
       "<Figure size 432x288 with 1 Axes>"
      ]
     },
     "metadata": {
      "needs_background": "light"
     },
     "output_type": "display_data"
    }
   ],
   "source": [
    "y_pred_perturb  = model_perturbed.predict(x_test)\n",
    "y_exact_perturb = model_perturbed_exact.predict(x_test)\n",
    "\n",
    "plt.clf()\n",
    "plt.plot(x_train, y_train, 'go', label='True data', alpha=0.75)\n",
    "plt.plot(x_test, y_pred, '--', label='Predictions', linewidth=2, color=\"g\", alpha=0.85)\n",
    "plt.plot(x_test, y_pred_perturb, ':', linewidth=2, color=\"r\", label='Perturbed predictions', alpha=0.75)\n",
    "plt.plot(x_test, y_exact_perturb, ':', linewidth=2, color=\"b\", label='Exact LOO predictions', alpha=0.75)\n",
    "plt.plot(x_train[data_index], y_train[data_index], 'go', color=\"r\", label='Deleted data')\n",
    "plt.legend(loc='best')\n",
    "plt.show()"
   ]
  },
  {
   "cell_type": "code",
   "execution_count": null,
   "metadata": {
    "collapsed": true
   },
   "outputs": [],
   "source": [
    "# use linear output layer\n",
    "# speed up by making gradients non serial"
   ]
  },
  {
   "cell_type": "code",
   "execution_count": null,
   "metadata": {
    "collapsed": false
   },
   "outputs": [],
   "source": [
    "# loss correlation plot"
   ]
  },
  {
   "cell_type": "code",
   "execution_count": null,
   "metadata": {
    "collapsed": false
   },
   "outputs": [],
   "source": [
    "# ||theta - theta_LOO||\n",
    "# || I - I_exact ||"
   ]
  },
  {
   "cell_type": "code",
   "execution_count": null,
   "metadata": {
    "collapsed": false
   },
   "outputs": [],
   "source": [
    "# add second order\n",
    "# try different activation - remove it"
   ]
  },
  {
   "cell_type": "code",
   "execution_count": null,
   "metadata": {
    "collapsed": true
   },
   "outputs": [],
   "source": [
    "# plot uncertainty intervals here --->"
   ]
  },
  {
   "cell_type": "code",
   "execution_count": 80,
   "metadata": {
    "collapsed": false
   },
   "outputs": [],
   "source": [
    "def LOO_predictions(model, x_test):\n",
    "    \n",
    "    IFs     = []\n",
    "    y_preds = []\n",
    "    y_exact = []\n",
    "    \n",
    "    for data_index in range(model.X.shape[0]):\n",
    "    \n",
    "        IF  = influence_function(model, train_index=[data_index], mode=\"exact\", damp=0)\n",
    "        \n",
    "        IFs.append(IF)\n",
    "        y_preds.append(perturb_model_(model, IF[0]).predict(x_test))\n",
    "        \n",
    "        model_perturbed_exact = LinearRegression(inputDim=1, epochs=n_epochs) \n",
    "\n",
    "        model_perturbed_exact.fit(np.delete(x_train, obj=data_index, axis=0), \n",
    "                                  np.delete(y_train, obj=data_index, axis=0))\n",
    "        \n",
    "        y_exact.append(model_perturbed_exact.predict(x_test))\n",
    "    \n",
    "    return y_preds, y_exact"
   ]
  },
  {
   "cell_type": "code",
   "execution_count": null,
   "metadata": {
    "collapsed": false
   },
   "outputs": [],
   "source": [
    "# replace loop\n",
    "\n",
    "models       = []\n",
    "models_2nd   = []\n",
    "exact_models = []\n",
    "\n",
    "for _index in range(n_sample):\n",
    "    \n",
    "    print(_index)\n",
    "    \n",
    "    IF     = influence_function(model, train_index=[_index], mode=\"exact\", damp=0)[0]\n",
    "    \n",
    "    H_ij   = exact_hessian_ij(model, model.loss_fn(model.predict(model.X[_index], numpy_output=False), model.y[_index]))\n",
    "    H      = exact_hessian(model)\n",
    "    IF_2   = torch.mm(torch.inverse(H), torch.mm(H_ij, IF)) * (2 / model.X.shape[0])\n",
    "    \n",
    "    models.append(perturb_model_(model, IF))\n",
    "    models_2nd.append(perturb_model_(model, IF + 0.5 * IF_2))\n",
    "    \n",
    "    model_perturbed_exact = DNN(num_layers=1, num_hidden=20, activation=\"Tanh\") \n",
    "\n",
    "    model_perturbed_exact.fit(np.delete(x_train, obj=_index, axis=0), \n",
    "                              np.delete(y_train, obj=_index, axis=0), \n",
    "                              learning_rate=0.01, num_iter=num_iter, verbosity=False)\n",
    "    \n",
    "    exact_models.append(model_perturbed_exact)"
   ]
  },
  {
   "cell_type": "code",
   "execution_count": null,
   "metadata": {
    "collapsed": false
   },
   "outputs": [],
   "source": [
    "preds_IF = []\n",
    "\n",
    "for _index in range(n_sample):\n",
    "    \n",
    "    plt.plot(x_test, models[_index].predict(x_test), ':', \n",
    "             linewidth=2, color=\"r\", label='Perturbed predictions', alpha=0.75)\n",
    "    \n",
    "    preds_IF.append(models[_index].predict(x_test))"
   ]
  },
  {
   "cell_type": "code",
   "execution_count": null,
   "metadata": {
    "collapsed": false
   },
   "outputs": [],
   "source": [
    "preds_ex = []\n",
    "\n",
    "for _index in range(n_sample):\n",
    "    \n",
    "    plt.plot(x_test, exact_models[_index].predict(x_test), ':', \n",
    "             linewidth=2, color=\"b\", label='Perturbed predictions', alpha=0.75)\n",
    "    \n",
    "    preds_ex.append(exact_models[_index].predict(x_test))"
   ]
  },
  {
   "cell_type": "code",
   "execution_count": null,
   "metadata": {
    "collapsed": false
   },
   "outputs": [],
   "source": [
    "_index = 7\n",
    "\n",
    "plt.plot(x_test, models[_index].predict(x_test), ':', \n",
    "             linewidth=2, color=\"r\", label='Perturbed predictions', alpha=0.75)\n",
    "\n",
    "plt.plot(x_test, models_2nd[_index].predict(x_test),\n",
    "             linewidth=2, color=\"r\", label='Perturbed predictions', alpha=0.75)\n",
    "\n",
    "\n",
    "plt.plot(x_test, exact_models[_index].predict(x_test), ':', \n",
    "             linewidth=2, color=\"b\", label='Perturbed predictions', alpha=0.75)\n",
    "\n",
    "plt.plot(x_test, y_pred, '--', label='Predictions', linewidth=2, color=\"g\", alpha=0.85)\n",
    "\n",
    "plt.plot(x_train[_index], y_train[_index], 'go', color=\"r\", label='Deleted data')"
   ]
  },
  {
   "cell_type": "code",
   "execution_count": null,
   "metadata": {
    "collapsed": true
   },
   "outputs": [],
   "source": [
    "# higher order [partially completed. Need to implement the exact term from HOIF swiss army paper]\n",
    "# replace Tanh with non activation\n",
    "# delete multiple points [make gradients weighted. look at percy liang paper] -->> completed. Make it more general and also for approx\n",
    "# add RNN and CNN\n",
    "\n",
    "# make approximation works\n",
    "# apply to UCI high dim\n",
    "\n",
    "# list all experiments and check what is complete and what is to be replaced\n",
    "# Make everything more humble: complexity limitation curve, exact DJ in many experiments\n",
    "# Add 1 page: experiments about accuracy of IF in DJ and RNN"
   ]
  },
  {
   "cell_type": "code",
   "execution_count": null,
   "metadata": {
    "collapsed": false
   },
   "outputs": [],
   "source": [
    "pred_ex_upper = np.quantile(np.array(preds_ex).reshape((n_sample, 100)), 0.9, axis=0)\n",
    "pred_ex_lower = np.quantile(np.array(preds_ex).reshape((n_sample, 100)), 0.1, axis=0)\n",
    "\n",
    "plt.plot(x_test, y_pred, color=\"b\")\n",
    "plt.fill_between(x_test.reshape((-1,)), pred_ex_lower, pred_ex_upper, alpha=0.05, color=\"b\")\n",
    "plt.plot(x_test, pred_ex_upper, linewidth=1, color=\"b\", linestyle=\"--\")\n",
    "plt.plot(x_test, pred_ex_lower, linewidth=1, color=\"b\", linestyle=\"--\")"
   ]
  },
  {
   "cell_type": "code",
   "execution_count": null,
   "metadata": {
    "collapsed": false
   },
   "outputs": [],
   "source": [
    "pred_IF_upper = np.quantile(np.array(preds_IF).reshape((n_sample, 100)), 0.9, axis=0)\n",
    "pred_IF_lower = np.quantile(np.array(preds_IF).reshape((n_sample, 100)), 0.1, axis=0)\n",
    "\n",
    "plt.plot(x_test, y_pred, color=\"r\")\n",
    "plt.fill_between(x_test.reshape((-1,)), pred_IF_lower, pred_IF_upper, alpha=0.05, color=\"r\")\n",
    "plt.plot(x_test, pred_IF_upper, linewidth=1, color=\"r\", linestyle=\"--\")\n",
    "plt.plot(x_test, pred_IF_lower, linewidth=1, color=\"r\", linestyle=\"--\")"
   ]
  },
  {
   "cell_type": "code",
   "execution_count": null,
   "metadata": {
    "collapsed": true
   },
   "outputs": [],
   "source": []
  },
  {
   "cell_type": "code",
   "execution_count": null,
   "metadata": {
    "collapsed": false
   },
   "outputs": [],
   "source": [
    "y_preds, y_exact = LOO_predictions(model, x_test)"
   ]
  },
  {
   "cell_type": "code",
   "execution_count": 84,
   "metadata": {
    "collapsed": false
   },
   "outputs": [
    {
     "data": {
      "image/png": "[encoded data removed]",
      "text/plain": [
       "<Figure size 432x288 with 1 Axes>"
      ]
     },
     "metadata": {
      "needs_background": "light"
     },
     "output_type": "display_data"
    }
   ],
   "source": [
    "for k in range(len(y_preds)):\n",
    "\n",
    "    plt.plot(y_preds[k], color=\"r\")\n",
    "    plt.plot(y_exact[k], color=\"b\")"
   ]
  },
  {
   "cell_type": "code",
   "execution_count": null,
   "metadata": {
    "collapsed": false
   },
   "outputs": [],
   "source": []
  },
  {
   "cell_type": "code",
   "execution_count": null,
   "metadata": {
    "collapsed": true
   },
   "outputs": [],
   "source": []
  }
 ],
 "metadata": {
  "kernelspec": {
   "display_name": "tensorflow",
   "language": "python",
   "name": "tensorflow"
  },
  "language_info": {
   "codemirror_mode": {
    "name": "ipython",
    "version": 3
   },
   "file_extension": ".py",
   "mimetype": "text/x-python",
   "name": "python",
   "nbconvert_exporter": "python",
   "pygments_lexer": "ipython3",
   "version": "3.6.1"
  }
 },
 "nbformat": 4,
 "nbformat_minor": 2
}
