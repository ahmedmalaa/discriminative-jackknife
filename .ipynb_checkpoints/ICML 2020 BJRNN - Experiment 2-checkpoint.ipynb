{
 "cells": [
  {
   "cell_type": "code",
   "execution_count": 1,
   "metadata": {
    "collapsed": false
   },
   "outputs": [],
   "source": [
    "import numpy as np\n",
    "from matplotlib import pyplot as plt\n",
    "%matplotlib inline \n",
    "\n",
    "from models.sequential import *\n",
    "from utils.make_data import *\n",
    "\n",
    "def compute_coverage_error(y_pred, y_true, y_lower, y_upper):\n",
    "    \n",
    "    lower_covered = (y_true.reshape((y_lower.shape[0], y_lower.shape[1])) >= y_lower)\n",
    "    upper_covered = (y_true.reshape((y_upper.shape[0], y_upper.shape[1])) <= y_upper)\n",
    "    errors        = np.abs(y_true - y_pred)\n",
    "    \n",
    "    return ((lower_covered * upper_covered) * 1).reshape(np.maximum(y_lower.shape[0], y_lower.shape[1]), ), errors"
   ]
  },
  {
   "cell_type": "code",
   "execution_count": 93,
   "metadata": {
    "collapsed": true
   },
   "outputs": [],
   "source": [
    "seq_len      = 5\n",
    "n_samples    = 1000"
   ]
  },
  {
   "cell_type": "code",
   "execution_count": 3,
   "metadata": {
    "collapsed": true
   },
   "outputs": [],
   "source": [
    "INPUT_SIZE   = 1 \n",
    "EPOCH        = 10\n",
    "N_STEPS      = 500\n",
    "BATCH_SIZE   = 100 \n",
    "MAX_STEPS    = seq_len \n",
    "mode         = \"RNN\"\n",
    "\n",
    "noise_prof   = np.arange(0, 10) * 0.5"
   ]
  },
  {
   "cell_type": "code",
   "execution_count": null,
   "metadata": {
    "collapsed": false
   },
   "outputs": [],
   "source": [
    "X, Y         = create_autoregressive_data(n_samples=n_samples, noise_profile=noise_prof,\n",
    "                                          seq_len=seq_len, mode=\"time-dependent\")"
   ]
  },
  {
   "cell_type": "code",
   "execution_count": 4,
   "metadata": {
    "collapsed": false
   },
   "outputs": [],
   "source": [
    "model_params = dict({\"INPUT_SIZE\":INPUT_SIZE, \n",
    "                     \"EPOCH\":EPOCH, \n",
    "                     \"N_STEPS\":N_STEPS, \n",
    "                     \"BATCH_SIZE\":BATCH_SIZE, \n",
    "                     \"MAX_STEPS\":MAX_STEPS, \n",
    "                     \"mode\":mode})"
   ]
  },
  {
   "cell_type": "code",
   "execution_count": null,
   "metadata": {
    "collapsed": false
   },
   "outputs": [],
   "source": [
    "RNN_model    = RNN(**model_params)"
   ]
  },
  {
   "cell_type": "code",
   "execution_count": null,
   "metadata": {
    "collapsed": false
   },
   "outputs": [],
   "source": [
    "RNN_model.fit(X, Y)"
   ]
  },
  {
   "cell_type": "code",
   "execution_count": null,
   "metadata": {
    "collapsed": false
   },
   "outputs": [],
   "source": [
    "RNN_uncertainty = RNN_uncertainty_wrapper(RNN_model)"
   ]
  },
  {
   "cell_type": "code",
   "execution_count": null,
   "metadata": {
    "collapsed": true
   },
   "outputs": [],
   "source": [
    "# plot function \n",
    "# coverage function with dict for everything"
   ]
  },
  {
   "cell_type": "code",
   "execution_count": null,
   "metadata": {
    "collapsed": true
   },
   "outputs": [],
   "source": [
    "X_test, Y_test  = create_autoregressive_data(n_samples=1, noise_profile=noise_prof,\n",
    "                                             seq_len=seq_len, mode=\"time-dependent\")"
   ]
  },
  {
   "cell_type": "code",
   "execution_count": null,
   "metadata": {
    "collapsed": true
   },
   "outputs": [],
   "source": [
    "y_pred, y_l_approx, y_u_approx = RNN_uncertainty.predict(X_test, coverage=0.5)\n",
    "CI                             = y_u_approx - y_l_approx "
   ]
  },
  {
   "cell_type": "code",
   "execution_count": null,
   "metadata": {
    "collapsed": false
   },
   "outputs": [],
   "source": [
    "plt.fill_between(list(range(seq_len)), y_l_approx.reshape(-1,), y_u_approx.reshape(-1,), color=\"r\", alpha=0.25)\n",
    "plt.plot(y_l_approx, linestyle=\":\", linewidth=3, color=\"r\")\n",
    "plt.plot(y_u_approx, linestyle=\":\", linewidth=3, color=\"r\")\n",
    "\n",
    "plt.plot(Y_test[0], linestyle=\"--\", linewidth=2, color=\"black\")\n",
    "plt.plot(y_pred[0], linewidth=3, color=\"r\", Marker=\"o\")\n",
    "\n",
    "plt.xlim(0, 9.1)\n",
    "plt.ylim(-5.5, 15)\n",
    "\n",
    "plt.tight_layout()\n",
    "plt.savefig(\"figures/time-dep-noise-50.png\", dpi=5000, transparent=True)"
   ]
  },
  {
   "cell_type": "code",
   "execution_count": null,
   "metadata": {
    "collapsed": false
   },
   "outputs": [],
   "source": [
    "X, Y         = create_autoregressive_data(n_samples=n_samples, noise_profile=[0, 0.05, .1], memory_factor=1,\n",
    "                                          X_m=1, X_v=1, seq_len=seq_len, mode=\"noise-sweep\")"
   ]
  },
  {
   "cell_type": "code",
   "execution_count": null,
   "metadata": {
    "collapsed": true
   },
   "outputs": [],
   "source": [
    "RNN_model_0       = RNN(**model_params)\n",
    "RNN_model_1       = RNN(**model_params)\n",
    "RNN_model_2       = RNN(**model_params)"
   ]
  },
  {
   "cell_type": "code",
   "execution_count": null,
   "metadata": {
    "collapsed": false
   },
   "outputs": [],
   "source": [
    "RNN_model_0.fit(X, Y[0])\n",
    "RNN_model_1.fit(X, Y[1])\n",
    "RNN_model_2.fit(X, Y[2])"
   ]
  },
  {
   "cell_type": "code",
   "execution_count": null,
   "metadata": {
    "collapsed": true
   },
   "outputs": [],
   "source": [
    "RNN_uncertainty_0 = RNN_uncertainty_wrapper(RNN_model_0)\n",
    "RNN_uncertainty_1 = RNN_uncertainty_wrapper(RNN_model_1)\n",
    "RNN_uncertainty_2 = RNN_uncertainty_wrapper(RNN_model_2)"
   ]
  },
  {
   "cell_type": "code",
   "execution_count": null,
   "metadata": {
    "collapsed": false
   },
   "outputs": [],
   "source": [
    "X_test, Y_test  = create_autoregressive_data(n_samples=1, noise_profile=[0], memory_factor=1,\n",
    "                                          X_m=1, X_v=1, seq_len=seq_len, mode=\"noise-sweep\")"
   ]
  },
  {
   "cell_type": "code",
   "execution_count": null,
   "metadata": {
    "collapsed": false
   },
   "outputs": [],
   "source": [
    "y_pred, y_l_approx, y_u_approx = RNN_uncertainty_2.predict(X_test, coverage=0.9)\n",
    "CI                             = y_u_approx - y_l_approx "
   ]
  },
  {
   "cell_type": "code",
   "execution_count": null,
   "metadata": {
    "collapsed": false
   },
   "outputs": [],
   "source": [
    "plt.fill_between(list(range(seq_len)), y_l_approx.reshape(-1,), y_u_approx.reshape(-1,), color=\"r\", alpha=0.25)\n",
    "plt.plot(y_l_approx, linestyle=\":\", linewidth=3, color=\"r\")\n",
    "plt.plot(y_u_approx, linestyle=\":\", linewidth=3, color=\"r\")\n",
    "\n",
    "plt.plot(y_pred[0], linewidth=3, color=\"r\", Marker=\"o\")\n",
    "plt.plot(Y_test[0][0], linestyle=\"--\", linewidth=2, color=\"black\")\n",
    "\n",
    "plt.xlim(0, 9.1)\n",
    "plt.ylim(-5.5, 15)\n",
    "\n",
    "plt.tight_layout()\n",
    "plt.savefig(\"figures/time-noise-sweep-2.png\", dpi=5000, transparent=True)"
   ]
  },
  {
   "cell_type": "code",
   "execution_count": 5,
   "metadata": {
    "collapsed": false
   },
   "outputs": [],
   "source": [
    "X, Y       = create_autoregressive_data(n_samples=n_samples, noise_profile=[0.0, 0.2, 0.4, 0.8], \n",
    "                                        memory_factor=.8, X_m=1, X_v=1, seq_len=seq_len, mode=\"noise-sweep\")"
   ]
  },
  {
   "cell_type": "code",
   "execution_count": 6,
   "metadata": {
    "collapsed": true
   },
   "outputs": [],
   "source": [
    "RNN_models = [RNN(**model_params) for k in range(4)]"
   ]
  },
  {
   "cell_type": "code",
   "execution_count": 95,
   "metadata": {
    "collapsed": false
   },
   "outputs": [],
   "source": [
    "X, Y       = create_autoregressive_data(n_samples=n_samples, noise_profile=[0.1], \n",
    "                                        memory_factor=.8, X_m=1, X_v=1, seq_len=seq_len, mode=\"noise-sweep\")"
   ]
  },
  {
   "cell_type": "code",
   "execution_count": null,
   "metadata": {
    "collapsed": false
   },
   "outputs": [],
   "source": [
    "#for k in range(4):\n",
    "    \n",
    "#    RNN_models[k].fit(X, Y[k])\n",
    "\n",
    "RNN_models_ = [RNN(**model_params) for k in range(3)]\n",
    "\n",
    "samples     = [10, 100, 1000]\n",
    "\n",
    "for k in range(3):\n",
    "    \n",
    "    RNN_models_[k].fit([X[u] for u in range(samples[k])], [Y[0][u] for u in range(samples[k])])"
   ]
  },
  {
   "cell_type": "code",
   "execution_count": null,
   "metadata": {
    "collapsed": false
   },
   "outputs": [],
   "source": [
    "RNN_uncertaintys  = []\n",
    "\n",
    "for k in range(4):\n",
    "    \n",
    "    print(k)\n",
    "\n",
    "    RNN_uncertaintys.append(RNN_uncertainty_wrapper(RNN_models[k]))"
   ]
  },
  {
   "cell_type": "code",
   "execution_count": null,
   "metadata": {
    "collapsed": false
   },
   "outputs": [],
   "source": [
    "RNN_uncertaintys_ = []\n",
    "\n",
    "for k in range(3):\n",
    "    \n",
    "    print(k)\n",
    "\n",
    "    RNN_uncertaintys_.append(RNN_uncertainty_wrapper(RNN_models_[k]))"
   ]
  },
  {
   "cell_type": "code",
   "execution_count": null,
   "metadata": {
    "collapsed": false
   },
   "outputs": [],
   "source": [
    "noise_indexes            = [\"0\", \"1\", \"2\"]\n",
    "n_MC_samples             = 100\n",
    "\n",
    "IF_err_result_           = dict({\"0\": [], \"1\": [], \"2\": []})\n",
    "IF_cov_result_           = dict({\"0\": [], \"1\": [], \"2\": []})\n",
    "IF_CI_result_            = dict({\"0\": [], \"1\": [], \"2\": []})\n",
    "\n",
    "for u in range(len(noises)):\n",
    "    \n",
    "    print(u)\n",
    "    \n",
    "    for _ in range(n_MC_samples):\n",
    "    \n",
    "        X_test, Y_test           = create_autoregressive_data(n_samples=1, noise_profile=[.1],  \n",
    "                                                              memory_factor=.8, X_m=1, X_v=1, seq_len=seq_len, \n",
    "                                                              mode=\"noise-sweep\")\n",
    "    \n",
    "        y_pred, y_lower, y_upper = RNN_uncertaintys_[u].predict(X_test, coverage=0.95)\n",
    "        Coverage, Error          = compute_coverage_error(y_pred, Y_test[0][0], y_lower, y_upper)\n",
    "        CI                       = y_upper - y_lower \n",
    "        \n",
    "        IF_err_result_[noise_indexes[u]].append(Error)\n",
    "        IF_cov_result_[noise_indexes[u]].append(Coverage)\n",
    "        IF_CI_result_[noise_indexes[u]].append(CI)\n",
    "    "
   ]
  },
  {
   "cell_type": "code",
   "execution_count": 13,
   "metadata": {
    "collapsed": false
   },
   "outputs": [
    {
     "name": "stdout",
     "output_type": "stream",
     "text": [
      "0\n",
      "1\n",
      "2\n",
      "3\n"
     ]
    }
   ],
   "source": [
    "noises                   = [0.0, 0.2, 0.4, 0.8]\n",
    "noise_indexes            = [\"0\", \"1\", \"2\", \"3\"]\n",
    "n_MC_samples             = 1000\n",
    "\n",
    "IF_err_result            = dict({\"0\": [], \"1\": [], \"2\": [], \"3\": []})\n",
    "IF_cov_result            = dict({\"0\": [], \"1\": [], \"2\": [], \"3\": []})\n",
    "IF_CI_result             = dict({\"0\": [], \"1\": [], \"2\": [], \"3\": []})\n",
    "\n",
    "for u in range(len(noises)):\n",
    "    \n",
    "    print(u)\n",
    "    \n",
    "    for _ in range(n_MC_samples):\n",
    "    \n",
    "        X_test, Y_test           = create_autoregressive_data(n_samples=1, noise_profile=[noises[u]],  \n",
    "                                                              memory_factor=.8, X_m=1, X_v=1, seq_len=seq_len, \n",
    "                                                              mode=\"noise-sweep\")\n",
    "    \n",
    "        y_pred, y_lower, y_upper = RNN_uncertaintys[u].predict(X_test, coverage=0.95)\n",
    "        Coverage, Error          = compute_coverage_error(y_pred, Y_test[0][0], y_lower, y_upper)\n",
    "        CI                       = y_upper - y_lower \n",
    "        \n",
    "        IF_err_result[noise_indexes[u]].append(Error)\n",
    "        IF_cov_result[noise_indexes[u]].append(Coverage)\n",
    "        IF_CI_result[noise_indexes[u]].append(CI)\n",
    "    "
   ]
  },
  {
   "cell_type": "code",
   "execution_count": 113,
   "metadata": {
    "collapsed": false
   },
   "outputs": [
    {
     "data": {
      "text/plain": [
       "[0.34441634191274645, 0.4708611147575078, 0.46825506278388196]"
      ]
     },
     "execution_count": 113,
     "metadata": {},
     "output_type": "execute_result"
    }
   ],
   "source": [
    "#IF_CI  = [np.mean(np.array(IF_CI_result[noise_indexes[u]])) for u in range(len(noise_indexes))]\n",
    "IF_CI_  = [np.mean(np.array(IF_CI_result_[noise_indexes[u]])) for u in range(len(samples))]\n",
    "\n",
    "IF_CI_"
   ]
  },
  {
   "cell_type": "code",
   "execution_count": 52,
   "metadata": {
    "collapsed": false
   },
   "outputs": [],
   "source": [
    "IF_err = [np.mean(np.array(IF_err_result[noise_indexes[u]])) for u in range(len(noise_indexes))]"
   ]
  },
  {
   "cell_type": "code",
   "execution_count": 53,
   "metadata": {
    "collapsed": false
   },
   "outputs": [],
   "source": [
    "IF_cov = [np.mean(np.array(IF_cov_result[noise_indexes[u]])) for u in range(len(noise_indexes))]"
   ]
  },
  {
   "cell_type": "markdown",
   "metadata": {},
   "source": [
    "### MCDP RNN"
   ]
  },
  {
   "cell_type": "code",
   "execution_count": 17,
   "metadata": {
    "collapsed": true
   },
   "outputs": [],
   "source": [
    "DPRNN_models = [DPRNN(**model_params) for k in range(4)]"
   ]
  },
  {
   "cell_type": "code",
   "execution_count": null,
   "metadata": {
    "collapsed": false
   },
   "outputs": [],
   "source": [
    "for k in range(4):\n",
    "    \n",
    "    DPRNN_models[k].fit(X, Y[k])"
   ]
  },
  {
   "cell_type": "code",
   "execution_count": null,
   "metadata": {
    "collapsed": false
   },
   "outputs": [],
   "source": [
    "DP_err_result            = dict({\"0\": [], \"1\": [], \"2\": [], \"3\": []})\n",
    "DP_cov_result            = dict({\"0\": [], \"1\": [], \"2\": [], \"3\": []})\n",
    "DP_CI_result             = dict({\"0\": [], \"1\": [], \"2\": [], \"3\": []})\n",
    "\n",
    "for u in range(len(noises)):\n",
    "    \n",
    "    print(u)\n",
    "    \n",
    "    for _ in range(n_MC_samples):\n",
    "    \n",
    "        X_test, Y_test           = create_autoregressive_data(n_samples=1, noise_profile=[noises[u]],  \n",
    "                                                              memory_factor=.8, X_m=1, X_v=1, seq_len=seq_len, \n",
    "                                                              mode=\"noise-sweep\")\n",
    "    \n",
    "        y_out                    = DPRNN_models[u].predict(X_test)\n",
    "        y_pred, y_std            = y_out[0][0], y_out[1][0]  \n",
    "        y_lower, y_upper         = (y_pred - y_std).reshape(-1, 1), (y_pred + y_std).reshape(-1, 1)\n",
    "        \n",
    "        Coverage, Error          = compute_coverage_error(y_pred, Y_test[0][0], y_lower, y_upper)\n",
    "        CI                       = y_upper - y_lower \n",
    "        \n",
    "        DP_err_result[noise_indexes[u]].append(Error)\n",
    "        DP_cov_result[noise_indexes[u]].append(Coverage)\n",
    "        DP_CI_result[noise_indexes[u]].append(CI)"
   ]
  },
  {
   "cell_type": "code",
   "execution_count": 50,
   "metadata": {
    "collapsed": false
   },
   "outputs": [],
   "source": [
    "DP_CI = [np.mean(np.array(DP_CI_result[noise_indexes[u]])) for u in range(len(noise_indexes))]"
   ]
  },
  {
   "cell_type": "code",
   "execution_count": 49,
   "metadata": {
    "collapsed": false
   },
   "outputs": [],
   "source": [
    "DP_err = [np.mean(np.array(DP_err_result[noise_indexes[u]])) for u in range(len(noise_indexes))]"
   ]
  },
  {
   "cell_type": "code",
   "execution_count": 48,
   "metadata": {
    "collapsed": false
   },
   "outputs": [],
   "source": [
    "DP_cov = [np.mean(np.array(DP_cov_result[noise_indexes[u]])) for u in range(len(noise_indexes))]"
   ]
  },
  {
   "cell_type": "markdown",
   "metadata": {},
   "source": [
    "### Q-RNN"
   ]
  },
  {
   "cell_type": "code",
   "execution_count": 33,
   "metadata": {
    "collapsed": true
   },
   "outputs": [],
   "source": [
    "QRNN_models = [QRNN(**model_params) for k in range(4)]"
   ]
  },
  {
   "cell_type": "code",
   "execution_count": null,
   "metadata": {
    "collapsed": false
   },
   "outputs": [],
   "source": [
    "for k in range(4):\n",
    "    \n",
    "    QRNN_models[k].fit(X, Y[k])"
   ]
  },
  {
   "cell_type": "code",
   "execution_count": 41,
   "metadata": {
    "collapsed": false
   },
   "outputs": [
    {
     "name": "stdout",
     "output_type": "stream",
     "text": [
      "0\n",
      "1\n",
      "2\n",
      "3\n"
     ]
    }
   ],
   "source": [
    "Q_err_result            = dict({\"0\": [], \"1\": [], \"2\": [], \"3\": []})\n",
    "Q_cov_result            = dict({\"0\": [], \"1\": [], \"2\": [], \"3\": []})\n",
    "Q_CI_result             = dict({\"0\": [], \"1\": [], \"2\": [], \"3\": []})\n",
    "\n",
    "for u in range(len(noises)):\n",
    "    \n",
    "    print(u)\n",
    "    \n",
    "    for _ in range(n_MC_samples):\n",
    "    \n",
    "        X_test, Y_test           = create_autoregressive_data(n_samples=1, noise_profile=[noises[u]],  \n",
    "                                                              memory_factor=.8, X_m=1, X_v=1, seq_len=seq_len, \n",
    "                                                              mode=\"noise-sweep\")\n",
    "    \n",
    "        y_out                    = QRNN_models[u].predict(X_test)\n",
    "        y_upper, y_lower         = y_out[0][0].reshape(-1, 1), y_out[1][0].reshape(-1, 1)  \n",
    "        y_pred                   = ((y_upper + y_lower)/2).reshape(-1, 1)\n",
    "        \n",
    "        Coverage, Error          = compute_coverage_error(y_pred, Y_test[0][0], y_lower, y_upper)\n",
    "        CI                       = y_upper - y_lower \n",
    "        \n",
    "        Q_err_result[noise_indexes[u]].append(Error)\n",
    "        Q_cov_result[noise_indexes[u]].append(Coverage)\n",
    "        Q_CI_result[noise_indexes[u]].append(CI)"
   ]
  },
  {
   "cell_type": "code",
   "execution_count": 47,
   "metadata": {
    "collapsed": false
   },
   "outputs": [],
   "source": [
    "Q_CI  = [np.mean(np.array(Q_CI_result[noise_indexes[u]])) for u in range(len(noise_indexes))]"
   ]
  },
  {
   "cell_type": "code",
   "execution_count": 46,
   "metadata": {
    "collapsed": false
   },
   "outputs": [],
   "source": [
    "Q_err = [np.mean(np.array(Q_err_result[noise_indexes[u]])) for u in range(len(noise_indexes))]"
   ]
  },
  {
   "cell_type": "code",
   "execution_count": 45,
   "metadata": {
    "collapsed": false
   },
   "outputs": [],
   "source": [
    "Q_cov = [np.mean(np.array(Q_cov_result[noise_indexes[u]])) for u in range(len(noise_indexes))]"
   ]
  },
  {
   "cell_type": "code",
   "execution_count": 84,
   "metadata": {
    "collapsed": false
   },
   "outputs": [
    {
     "data": {
      "image/png": "[encoded data removed]",
      "text/plain": [
       "<Figure size 360x360 with 1 Axes>"
      ]
     },
     "metadata": {
      "needs_background": "light"
     },
     "output_type": "display_data"
    }
   ],
   "source": [
    "fig, ax = plt.subplots(figsize=(5, 5))\n",
    "\n",
    "plt.plot(noises, IF_CI, color=\"#f90574\", linewidth=3, marker=\"o\", label=\"Our method\")\n",
    "plt.plot(noises, Q_CI, color=\"#32343e\", linewidth=3, marker=\"o\", label=\"QRNN\")\n",
    "plt.plot(noises, DP_CI, linewidth=3, marker=\"o\", label=\"MCDP-RNN\")\n",
    "\n",
    "plt.legend(fontsize=12)\n",
    "\n",
    "plt.tight_layout()\n",
    "plt.savefig(\"Result1_RNN.png\", dpi=3000, transparent=True)"
   ]
  },
  {
   "cell_type": "code",
   "execution_count": 85,
   "metadata": {
    "collapsed": false
   },
   "outputs": [
    {
     "data": {
      "image/png": "[encoded data removed]",
      "text/plain": [
       "<Figure size 360x360 with 1 Axes>"
      ]
     },
     "metadata": {
      "needs_background": "light"
     },
     "output_type": "display_data"
    }
   ],
   "source": [
    "fig, ax = plt.subplots(figsize=(5, 5))\n",
    "\n",
    "plt.plot(noises, IF_err, color=\"#f90574\", linewidth=3, linestyle=\"--\", marker=\"o\", label=\"Our method\")\n",
    "plt.plot(noises, Q_err, color=\"#32343e\", linewidth=3, linestyle=\"--\", marker=\"o\", label=\"QRNN\")\n",
    "plt.plot(noises, DP_err, linewidth=3, linestyle=\"--\", marker=\"o\", label=\"MCDP-RNN\")\n",
    "\n",
    "plt.legend(fontsize=12)\n",
    "\n",
    "plt.tight_layout()\n",
    "plt.savefig(\"Result2_RNN.png\", dpi=3000, transparent=True)"
   ]
  },
  {
   "cell_type": "code",
   "execution_count": 91,
   "metadata": {
    "collapsed": false
   },
   "outputs": [
    {
     "data": {
      "image/png": "[encoded data removed]",
      "text/plain": [
       "<Figure size 360x360 with 1 Axes>"
      ]
     },
     "metadata": {
      "needs_background": "light"
     },
     "output_type": "display_data"
    }
   ],
   "source": [
    "fig, ax = plt.subplots(figsize=(5, 5))\n",
    "\n",
    "plt.plot(noises, IF_cov, color=\"#f90574\", linewidth=3, linestyle=\"-.\", marker=\"o\", label=\"Our method\")\n",
    "plt.plot(noises, Q_cov, color=\"#32343e\", linewidth=3, linestyle=\"-.\", marker=\"o\", label=\"QRNN\")\n",
    "plt.plot(noises, DP_cov, linewidth=3, linestyle=\"-.\", marker=\"o\", label=\"MCDP-RNN\")\n",
    "\n",
    "plt.legend(fontsize=12)\n",
    "\n",
    "plt.axhline(y=.8, linestyle=\"--\", color=\"black\")\n",
    "\n",
    "plt.tight_layout()\n",
    "plt.savefig(\"Result3_RNN.png\", dpi=3000, transparent=True)"
   ]
  },
  {
   "cell_type": "code",
   "execution_count": null,
   "metadata": {
    "collapsed": true
   },
   "outputs": [],
   "source": []
  }
 ],
 "metadata": {
  "kernelspec": {
   "display_name": "tensorflow",
   "language": "python",
   "name": "tensorflow"
  },
  "language_info": {
   "codemirror_mode": {
    "name": "ipython",
    "version": 3
   },
   "file_extension": ".py",
   "mimetype": "text/x-python",
   "name": "python",
   "nbconvert_exporter": "python",
   "pygments_lexer": "ipython3",
   "version": "3.6.1"
  }
 },
 "nbformat": 4,
 "nbformat_minor": 2
}
