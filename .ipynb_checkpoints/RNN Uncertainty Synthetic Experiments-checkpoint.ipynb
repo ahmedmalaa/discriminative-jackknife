{
 "cells": [
  {
   "cell_type": "code",
   "execution_count": 1,
   "metadata": {
    "collapsed": false
   },
   "outputs": [],
   "source": [
    "import numpy as np\n",
    "from matplotlib import pyplot as plt\n",
    "%matplotlib inline \n",
    "\n",
    "from models.sequential import *\n",
    "\n",
    "#from influence.influence_computation import *\n",
    "#from influence.influence_utils import * \n",
    "\n",
    "def create_data(n_samples=100, seq_len=5, n_noise=6):\n",
    "    \n",
    "    sigmas = [0]\n",
    "    \n",
    "    for m in range(n_noise):\n",
    "        \n",
    "        sigmas.append(sigmas[-1] + (1/n_noise))\n",
    "       \n",
    "    X      = [np.random.normal(1, 2, (seq_len, 1)) for k in range(n_samples)]\n",
    "    #Y      = [[(np.cumsum(X[k], axis=0) + np.random.normal(0, sigmas[u], (seq_len, 1))).reshape(seq_len,) for k in range(n_samples)] for u in range(len(sigmas))]\n",
    "    Y      = [[(np.cumsum(X[k], axis=0) + (torch.normal(mean=0.0, std=torch.arange(0.0, seq_len)) * 0.5).detach().numpy().reshape(-1, 1)).reshape(seq_len,) for k in range(n_samples)] for u in range(len(sigmas))]\n",
    "    \n",
    "    return X, Y\n",
    "\n",
    "\n",
    "#params_ = []\n",
    "\n",
    "#for param in model.parameters():\n",
    "    \n",
    "    #print(param)\n",
    "    \n",
    "#    params_.append(param)\n",
    "    \n",
    "#stack_torch_tensors(params_).shape    "
   ]
  },
  {
   "cell_type": "code",
   "execution_count": 2,
   "metadata": {
    "collapsed": false
   },
   "outputs": [],
   "source": [
    "n_noise   = 4\n",
    "seq_len   = 10\n",
    "models    = [RNN(INPUT_SIZE=1, EPOCH=10, N_STEPS=100, BATCH_SIZE=50, MAX_STEPS=seq_len, mode=\"RNN\") for u in list(range(n_noise))]\n",
    "DP_models = [DPRNN(INPUT_SIZE=1, EPOCH=10, N_STEPS=100, BATCH_SIZE=50, MAX_STEPS=seq_len, mode=\"RNN\") for u in list(range(n_noise))]"
   ]
  },
  {
   "cell_type": "code",
   "execution_count": 3,
   "metadata": {
    "collapsed": false
   },
   "outputs": [],
   "source": [
    "X, Y      = create_data(n_samples=100, seq_len=10, n_noise=n_noise)"
   ]
  },
  {
   "cell_type": "code",
   "execution_count": null,
   "metadata": {
    "collapsed": false
   },
   "outputs": [],
   "source": [
    "qmodel    = QRNN(INPUT_SIZE=1, EPOCH=10, N_STEPS=100, BATCH_SIZE=50, MAX_STEPS=seq_len, mode=\"RNN\")\n",
    "\n",
    "qmodel.fit(X, Y[0])"
   ]
  },
  {
   "cell_type": "code",
   "execution_count": null,
   "metadata": {
    "collapsed": false
   },
   "outputs": [],
   "source": [
    "for _ in range(n_noise):\n",
    "    \n",
    "    print(\"Model: \", _)\n",
    "    print(\"-----------\")\n",
    "\n",
    "    DP_models[_].fit(X, Y[_])"
   ]
  },
  {
   "cell_type": "code",
   "execution_count": null,
   "metadata": {
    "collapsed": false,
    "scrolled": false
   },
   "outputs": [],
   "source": [
    "for _ in range(n_noise):\n",
    "    \n",
    "    print(\"Model: \", _)\n",
    "    print(\"-----------\")\n",
    "\n",
    "    models[_].fit(X, Y[_])"
   ]
  },
  {
   "cell_type": "code",
   "execution_count": null,
   "metadata": {
    "collapsed": false
   },
   "outputs": [],
   "source": [
    "RNN_uncertainty_models = []\n",
    "\n",
    "for u in range(len(models)):\n",
    "    print(u)\n",
    "    RNN_uncertainty_models.append(RNN_uncertainty_wrapper(models[u]))"
   ]
  },
  {
   "cell_type": "code",
   "execution_count": null,
   "metadata": {
    "collapsed": true
   },
   "outputs": [],
   "source": [
    "# coverae fixed, width decrease vs noise \n",
    "# RNN correlation plots, increasing noise over time\n",
    "# compare with bencjmarks\n",
    "# update loss methods\n",
    "# for MIMIC only show coverage\n",
    "# handle unequal length"
   ]
  },
  {
   "cell_type": "code",
   "execution_count": null,
   "metadata": {
    "collapsed": false
   },
   "outputs": [],
   "source": [
    "# compare with benchmarks\n",
    "# function for coverage and discrimination\n",
    "# torch.normal(mean=0.5, std=torch.ones(5)) #torch.arange(1., 6.))"
   ]
  },
  {
   "cell_type": "code",
   "execution_count": 5,
   "metadata": {
    "collapsed": false
   },
   "outputs": [],
   "source": [
    "X_test, Y_test                = create_data(seq_len=seq_len, n_samples=1)"
   ]
  },
  {
   "cell_type": "code",
   "execution_count": 10,
   "metadata": {
    "collapsed": false
   },
   "outputs": [
    {
     "data": {
      "text/plain": [
       "[<matplotlib.lines.Line2D at 0x20f3c896390>]"
      ]
     },
     "execution_count": 10,
     "metadata": {},
     "output_type": "execute_result"
    },
    {
     "data": {
      "image/png": "[encoded data removed]",
      "text/plain": [
       "<Figure size 432x288 with 1 Axes>"
      ]
     },
     "metadata": {
      "needs_background": "light"
     },
     "output_type": "display_data"
    }
   ],
   "source": [
    "y_l_approx                    = qmodel.predict(X_test)[0][0]\n",
    "y_u_approx                    = qmodel.predict(X_test)[1][0]\n",
    "y_pred                        = (y_u_approx + y_l_approx) / 2\n",
    "\n",
    "plt.fill_between(list(range(seq_len)), y_l_approx.reshape(-1,), y_u_approx.reshape(-1,), alpha=0.25)\n",
    "plt.plot(y_l_approx, linestyle=\":\", color=\"b\")\n",
    "plt.plot(y_u_approx, linestyle=\":\", color=\"b\")\n",
    "\n",
    "plt.plot(Y_test[1][0], linestyle=\"--\", linewidth=2, color=\"black\")\n",
    "plt.plot(y_pred, linewidth=2, color=\"b\", Marker=\"o\")"
   ]
  },
  {
   "cell_type": "code",
   "execution_count": null,
   "metadata": {
    "collapsed": false
   },
   "outputs": [],
   "source": [
    "y_outputs                     = DP_models[3].predict(X_test)\n",
    "y_pred                        = y_outputs[0][0] \n",
    "y_l_approx                    = y_pred - y_outputs[1][0]\n",
    "y_u_approx                    = y_pred + y_outputs[1][0]\n",
    "\n",
    "plt.fill_between(list(range(seq_len)), y_l_approx.reshape(-1,), y_u_approx.reshape(-1,), alpha=0.25)\n",
    "plt.plot(y_l_approx, linestyle=\":\", color=\"b\")\n",
    "plt.plot(y_u_approx, linestyle=\":\", color=\"b\")\n",
    "\n",
    "plt.plot(Y_test[1][0], linestyle=\"--\", linewidth=2, color=\"black\")\n",
    "plt.plot(y_pred, linewidth=2, color=\"b\", Marker=\"o\")"
   ]
  },
  {
   "cell_type": "code",
   "execution_count": null,
   "metadata": {
    "collapsed": false
   },
   "outputs": [],
   "source": [
    "y_pred, y_l_approx, y_u_approx = RNN_uncertainty_models[3].predict(X_test, coverage=0.9)\n",
    "CI                             = y_u_approx - y_l_approx "
   ]
  },
  {
   "cell_type": "code",
   "execution_count": null,
   "metadata": {
    "collapsed": false
   },
   "outputs": [],
   "source": [
    "plt.fill_between(list(range(seq_len)), y_l_approx.reshape(-1,), y_u_approx.reshape(-1,), alpha=0.25)\n",
    "plt.plot(y_l_approx, linestyle=\":\", color=\"b\")\n",
    "plt.plot(y_u_approx, linestyle=\":\", color=\"b\")\n",
    "\n",
    "plt.plot(Y_test[1][0], linestyle=\"--\", linewidth=2, color=\"black\")\n",
    "plt.plot(y_pred[0], linewidth=2, color=\"b\", Marker=\"o\")"
   ]
  },
  {
   "cell_type": "code",
   "execution_count": null,
   "metadata": {
    "collapsed": false
   },
   "outputs": [],
   "source": [
    "coverage = 0.9\n",
    "CIs      = []\n",
    "Ers      = []\n",
    "\n",
    "Y_uppers = []\n",
    "Y_lowers = []\n",
    "Y_preds  = []\n",
    "\n",
    "for u in range(100):\n",
    "    \n",
    "    print(u)\n",
    "    \n",
    "    CI              = []  \n",
    "    Er              = []\n",
    "    \n",
    "    Y_upper         = []\n",
    "    Y_lower         = []\n",
    "    Y_pred          = []\n",
    "    \n",
    "    X_test, Y_test  = create_data(seq_len=seq_len, n_samples=1)\n",
    "    \n",
    "    for k in range(len(RNN_uncertainty_models)):\n",
    "        \n",
    "        y_pred, y_l_approx, y_u_approx = RNN_uncertainty_models[k].predict(X_test, coverage=coverage)\n",
    "        \n",
    "        CI.append(y_u_approx - y_l_approx) \n",
    "        Er.append(np.abs(y_pred - Y_test[k]))\n",
    "        \n",
    "        Y_upper.append(y_u_approx.reshape(-1,))\n",
    "        Y_lower.append(y_l_approx.reshape(-1,))\n",
    "        Y_pred.append(Y_test[k][0])\n",
    "    \n",
    "    CIs.append(CI)\n",
    "    Ers.append(Er)\n",
    "    \n",
    "    Y_uppers.append(Y_upper)\n",
    "    Y_lowers.append(Y_lower)\n",
    "    Y_preds.append(Y_pred)"
   ]
  },
  {
   "cell_type": "code",
   "execution_count": null,
   "metadata": {
    "collapsed": false
   },
   "outputs": [],
   "source": [
    "coverg = np.mean(((np.array(Y_uppers) - np.array(Y_preds)) > 0) * ((np.array(Y_lowers) - np.array(Y_preds)) < 0) *1, axis=0)\n",
    "\n",
    "#plt.plot(coverg[3, :])\n",
    "\n",
    "np.mean(coverg, axis=1)"
   ]
  },
  {
   "cell_type": "code",
   "execution_count": null,
   "metadata": {
    "collapsed": false
   },
   "outputs": [],
   "source": [
    "plt.plot(np.mean(np.mean(np.array(CIs).reshape(100, 4, seq_len), axis=2), axis=0))\n",
    "\n",
    "# errors and discrim accuracy"
   ]
  },
  {
   "cell_type": "code",
   "execution_count": null,
   "metadata": {
    "collapsed": false
   },
   "outputs": [],
   "source": [
    "coverage = 0.9\n",
    "CIs2     = []\n",
    "Ers2     = []\n",
    "\n",
    "Y_uppers = []\n",
    "Y_lowers = []\n",
    "Y_preds  = []\n",
    "\n",
    "for u in range(100):\n",
    "    \n",
    "    print(u)\n",
    "    \n",
    "    CI2             = []  \n",
    "    Er2             = []\n",
    "    \n",
    "    Y_upper         = []\n",
    "    Y_lower         = []\n",
    "    Y_pred          = []\n",
    "    \n",
    "    X_test, Y_test  = create_data(seq_len=seq_len, n_samples=1)\n",
    "    \n",
    "    for k in range(len(RNN_uncertainty_models)):\n",
    "        \n",
    "        y_outputs                     = DP_models[k].predict(X_test, alpha=1-coverage)\n",
    "        y_pred                        = y_outputs[0][0] \n",
    "        y_l_approx                    = y_pred - y_outputs[1][0]\n",
    "        y_u_approx                    = y_pred + y_outputs[1][0]\n",
    "        \n",
    "        CI2.append(y_u_approx - y_l_approx) \n",
    "        Er2.append(np.abs(y_pred - Y_test[k]))\n",
    "        \n",
    "        Y_upper.append(y_u_approx)\n",
    "        Y_lower.append(y_l_approx)\n",
    "        Y_pred.append(Y_test[k][0])\n",
    "    \n",
    "    CIs2.append(CI2)\n",
    "    Ers2.append(Er2)\n",
    "    \n",
    "    Y_uppers.append(Y_upper)\n",
    "    Y_lowers.append(Y_lower)\n",
    "    Y_preds.append(Y_pred)"
   ]
  },
  {
   "cell_type": "code",
   "execution_count": null,
   "metadata": {
    "collapsed": false
   },
   "outputs": [],
   "source": [
    "coverg = np.mean(((np.array(Y_uppers) - np.array(Y_preds)) > 0) * ((np.array(Y_lowers) - np.array(Y_preds)) < 0) *1, axis=0)\n",
    "\n",
    "#plt.plot(coverg[3, :])\n",
    "\n",
    "np.mean(coverg, axis=1)"
   ]
  },
  {
   "cell_type": "code",
   "execution_count": null,
   "metadata": {
    "collapsed": false
   },
   "outputs": [],
   "source": [
    "plt.plot(np.mean(np.mean(np.array(CIs2).reshape(100, 4, seq_len), axis=2), axis=0))\n",
    "plt.ylim([0, 5])"
   ]
  },
  {
   "cell_type": "code",
   "execution_count": null,
   "metadata": {
    "collapsed": true
   },
   "outputs": [],
   "source": [
    "# change noise levels"
   ]
  },
  {
   "cell_type": "code",
   "execution_count": null,
   "metadata": {
    "collapsed": true
   },
   "outputs": [],
   "source": [
    "from sklearn.metrics import roc_auc_score"
   ]
  },
  {
   "cell_type": "code",
   "execution_count": null,
   "metadata": {
    "collapsed": false
   },
   "outputs": [],
   "source": [
    "errors_  = np.array(Ers).reshape(100, 2, 5)[:, 1, 4].reshape(-1,)\n",
    "confint_ = np.array(CIs).reshape(100, 2, 5)[:, 1, 4].reshape(-1,)"
   ]
  },
  {
   "cell_type": "code",
   "execution_count": null,
   "metadata": {
    "collapsed": false
   },
   "outputs": [],
   "source": [
    "roc_auc_score((errors_>np.quantile(errors_, q=.5)) * 1, confint_)"
   ]
  },
  {
   "cell_type": "code",
   "execution_count": null,
   "metadata": {
    "collapsed": false
   },
   "outputs": [],
   "source": [
    "# epistemic uncertainy: no noise, very few samples"
   ]
  },
  {
   "cell_type": "code",
   "execution_count": null,
   "metadata": {
    "collapsed": false
   },
   "outputs": [],
   "source": []
  },
  {
   "cell_type": "code",
   "execution_count": null,
   "metadata": {
    "collapsed": false
   },
   "outputs": [],
   "source": []
  },
  {
   "cell_type": "code",
   "execution_count": null,
   "metadata": {
    "collapsed": true
   },
   "outputs": [],
   "source": []
  }
 ],
 "metadata": {
  "kernelspec": {
   "display_name": "tensorflow",
   "language": "python",
   "name": "tensorflow"
  },
  "language_info": {
   "codemirror_mode": {
    "name": "ipython",
    "version": 3
   },
   "file_extension": ".py",
   "mimetype": "text/x-python",
   "name": "python",
   "nbconvert_exporter": "python",
   "pygments_lexer": "ipython3",
   "version": "3.6.1"
  }
 },
 "nbformat": 4,
 "nbformat_minor": 2
}
