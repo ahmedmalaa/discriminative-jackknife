{
 "cells": [
  {
   "cell_type": "code",
   "execution_count": 194,
   "metadata": {
    "collapsed": false
   },
   "outputs": [],
   "source": [
    "import numpy as np\n",
    "from matplotlib import pyplot as plt\n",
    "%matplotlib inline \n",
    "\n",
    "from influence.influence_computation import *\n",
    "from models.base_models import *\n",
    "from influence.influence_utils import *\n",
    "\n",
    "from models.sequential import *\n",
    "\n",
    "# Linear regression uncertainty\n",
    "\n",
    "def compare_IF_LOO(model, IF_compute_mode=\"exact\", damp=0):\n",
    "    \n",
    "    IF_losses     = []  \n",
    "    exact_losses  = []\n",
    "    n_data_points = model.X.shape[0]\n",
    "    \n",
    "    for k in range(n_data_points):\n",
    "        \n",
    "        # compute influence functions\n",
    "        \n",
    "        if IF_compute_mode==\"exact\":\n",
    "            \n",
    "            IF = influence_function(model, train_index=[k], mode=\"exact\", damp=damp)\n",
    "        \n",
    "        else:\n",
    "            \n",
    "            IF = influence_function(model, \n",
    "                        train_index=[k], \n",
    "                        mode=\"stochastic\", \n",
    "                        batch_size=50, \n",
    "                        damp=damp, \n",
    "                        scale=100, \n",
    "                        recursion_depth=10000)\n",
    "        \n",
    "        # perturb the original model using IFs \n",
    "        \n",
    "        model_perturbed = perturb_model_(model, IF[0])\n",
    "        model_perturbed.update_loss()\n",
    "        \n",
    "        IF_losses.append(model_perturbed.loss.detach().numpy())\n",
    "        \n",
    "        # re-train the model with one data point deleted\n",
    "        \n",
    "        model_perturbed_exact = LinearRegression(inputDim=n_dim, epochs=n_epochs) \n",
    "\n",
    "        model_perturbed_exact.fit(np.delete(model.X.detach().numpy(), obj=k, axis=0), \n",
    "                                  np.delete(model.y.detach().numpy(), obj=k, axis=0), verbosity=False)\n",
    "        \n",
    "        # evaluate exact LOO loss\n",
    "        exact_loss = model.loss_fn(model_perturbed_exact.predict(model.X, numpy_output=False), model.y)\n",
    "        \n",
    "        exact_losses.append(exact_loss.detach().numpy())\n",
    "        \n",
    "    return IF_losses, exact_losses"
   ]
  },
  {
   "cell_type": "code",
   "execution_count": 87,
   "metadata": {
    "collapsed": true
   },
   "outputs": [],
   "source": [
    "def linear_data_model(x, beta, sigma):\n",
    "    \n",
    "    y = np.sum(x * np.repeat(beta.reshape((-1, 1)), repeats=x.shape[0], axis=1).T, axis=1).reshape(-1, 1) + (sigma**2) * np.random.normal(size=x.shape[0]).reshape(-1, 1)\n",
    "    \n",
    "    return y"
   ]
  },
  {
   "cell_type": "code",
   "execution_count": 223,
   "metadata": {
    "collapsed": false
   },
   "outputs": [],
   "source": [
    "# create dummy data for training\n",
    "n_sample = 500\n",
    "n_epochs = 500\n",
    "n_dim    = 5\n",
    "sigma    = 5\n",
    "beta     = np.array([3, 2, 1, -1, -2])\n",
    "\n",
    "x_train  = np.random.normal(0, 1, (n_sample, n_dim))\n",
    "y_train  = linear_data_model(x_train, beta, sigma)\n",
    "\n",
    "#x_test   = np.array(np.linspace(-5, 5, 100), dtype=np.float32)"
   ]
  },
  {
   "cell_type": "code",
   "execution_count": null,
   "metadata": {
    "collapsed": false
   },
   "outputs": [],
   "source": [
    "model    = LinearRegression(inputDim=n_dim, epochs=n_epochs) #\n",
    "\n",
    "model.fit(x_train, y_train)"
   ]
  },
  {
   "cell_type": "code",
   "execution_count": 225,
   "metadata": {
    "collapsed": false
   },
   "outputs": [
    {
     "name": "stdout",
     "output_type": "stream",
     "text": [
      "Parameter containing:\n",
      "tensor([[ 5.5328,  3.6169,  1.2404, -0.2796, -3.9039]], requires_grad=True)\n",
      "Parameter containing:\n",
      "tensor([-1.0292], requires_grad=True)\n"
     ]
    }
   ],
   "source": [
    "params_ = []\n",
    "\n",
    "for param in model.parameters():\n",
    "    \n",
    "    print(param)\n",
    "    \n",
    "    params_.append(param)"
   ]
  },
  {
   "cell_type": "code",
   "execution_count": null,
   "metadata": {
    "collapsed": true
   },
   "outputs": [],
   "source": [
    "#losses correlation"
   ]
  },
  {
   "cell_type": "code",
   "execution_count": 226,
   "metadata": {
    "collapsed": false
   },
   "outputs": [],
   "source": [
    "L_IF, L_exact = compare_IF_LOO(model)"
   ]
  },
  {
   "cell_type": "code",
   "execution_count": 221,
   "metadata": {
    "collapsed": false
   },
   "outputs": [
    {
     "data": {
      "text/plain": [
       "[<matplotlib.lines.Line2D at 0x2354d44cd30>]"
      ]
     },
     "execution_count": 221,
     "metadata": {},
     "output_type": "execute_result"
    },
    {
     "data": {
      "image/png": "[encoded data removed]",
      "text/plain": [
       "<Figure size 432x288 with 1 Axes>"
      ]
     },
     "metadata": {
      "needs_background": "light"
     },
     "output_type": "display_data"
    }
   ],
   "source": [
    "loss_range = np.linspace(np.minimum(np.min(np.array(L_IF)), np.min(np.array(L_exact))) - 1, \n",
    "                         np.maximum(np.max(np.array(L_IF)), np.max(np.array(L_exact))) + 1, 100)\n",
    "\n",
    "plt.scatter(L_IF, L_exact, color=\"red\")\n",
    "plt.plot(loss_range, loss_range, color=\"black\", linestyle=\":\")"
   ]
  },
  {
   "cell_type": "code",
   "execution_count": 216,
   "metadata": {
    "collapsed": false
   },
   "outputs": [],
   "source": []
  },
  {
   "cell_type": "code",
   "execution_count": null,
   "metadata": {
    "collapsed": true
   },
   "outputs": [],
   "source": []
  }
 ],
 "metadata": {
  "kernelspec": {
   "display_name": "tensorflow",
   "language": "python",
   "name": "tensorflow"
  },
  "language_info": {
   "codemirror_mode": {
    "name": "ipython",
    "version": 3
   },
   "file_extension": ".py",
   "mimetype": "text/x-python",
   "name": "python",
   "nbconvert_exporter": "python",
   "pygments_lexer": "ipython3",
   "version": "3.6.1"
  }
 },
 "nbformat": 4,
 "nbformat_minor": 2
}
