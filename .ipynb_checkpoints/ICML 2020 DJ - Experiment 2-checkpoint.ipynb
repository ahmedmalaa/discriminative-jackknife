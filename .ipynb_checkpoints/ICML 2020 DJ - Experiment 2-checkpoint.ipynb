{
 "cells": [
  {
   "cell_type": "code",
   "execution_count": 238,
   "metadata": {
    "collapsed": false
   },
   "outputs": [],
   "source": [
    "import numpy as np\n",
    "from matplotlib import pyplot as plt\n",
    "%matplotlib inline \n",
    "\n",
    "from models.static import *\n",
    "from utils.performance import *  \n",
    "\n",
    "n_epochs     = 1000\n",
    "n_dim        = 1\n",
    "activtn      = \"Tanh\"      \n",
    "num_hidden   = 50\n",
    "num_layers   = 1\n",
    "verbosity    = False\n",
    "learn_rate   = 0.1\n",
    "\n",
    "params       = dict({\"n_dim\":n_dim, \n",
    "                     \"activation\":activtn, \n",
    "                     \"num_hidden\":num_hidden,\n",
    "                     \"num_layers\":num_layers})\n",
    "\n",
    "train_params = dict({\"num_iter\":n_epochs, \n",
    "                     \"verbosity\":verbosity, \n",
    "                     \"learning_rate\":learn_rate})"
   ]
  },
  {
   "cell_type": "code",
   "execution_count": 687,
   "metadata": {
    "collapsed": true
   },
   "outputs": [],
   "source": [
    "def true_func(X):\n",
    "    \n",
    "    return (X**3)\n",
    "\n",
    "def sample_data(n_train=50, n_test=20, sigma=3):\n",
    "    \n",
    "    X_train  = np.random.uniform(-2, 2, size=n_train).reshape((-1, 1))  \n",
    "    \n",
    "    #X_train  = np.random.normal(0, 1, size=n_train).reshape((-1, 1)) \n",
    "\n",
    "    noise    = np.random.normal(0, sigma**2, size=n_train).reshape((-1, 1))\n",
    "    #noise    = np.random.normal(0, (2 * np.exp(-2*np.abs(X_train)))**2).reshape((-1, 1))\n",
    "    #noise    = np.random.normal(0, (.1 * np.exp(-2*X_train))**2).reshape((-1, 1))\n",
    "    \n",
    "    Y_train  = true_func(X_train.reshape((-1, 1))) + noise\n",
    "    \n",
    "    X_test   = np.linspace(-6, 6, n_test).reshape((-1, 1))\n",
    "    Y_test   = true_func(X_test).reshape((-1,)) \n",
    "    \n",
    "    return X_train, Y_train, X_test, Y_test\n",
    "    "
   ]
  },
  {
   "cell_type": "code",
   "execution_count": 676,
   "metadata": {
    "collapsed": false
   },
   "outputs": [],
   "source": [
    "#np.random.normal(0, np.linspace(0, 10, 10)**2, size=10).reshape((-1, 1))\n",
    "\n",
    "#x = np.linspace(-2, 2, 10)\n",
    "#plt.plot(x, 2 * np.exp(-2*np.abs(x)))\n",
    "\n",
    "#plt.plot(x, .1 * np.exp(-2*x))"
   ]
  },
  {
   "cell_type": "code",
   "execution_count": 688,
   "metadata": {
    "collapsed": false
   },
   "outputs": [],
   "source": [
    "X_train, Y_train, X_test, Y_test = sample_data(n_train=100, n_test=100, sigma=2)"
   ]
  },
  {
   "cell_type": "code",
   "execution_count": 689,
   "metadata": {
    "collapsed": false
   },
   "outputs": [],
   "source": [
    "model = DNN(**params)"
   ]
  },
  {
   "cell_type": "code",
   "execution_count": 690,
   "metadata": {
    "collapsed": true
   },
   "outputs": [],
   "source": [
    "model.fit(X_train, Y_train)"
   ]
  },
  {
   "cell_type": "code",
   "execution_count": 691,
   "metadata": {
    "collapsed": false
   },
   "outputs": [],
   "source": [
    "DJ_model                 = DNN_uncertainty_wrapper(model, order=2, damp=1e-4)"
   ]
  },
  {
   "cell_type": "code",
   "execution_count": 692,
   "metadata": {
    "collapsed": true
   },
   "outputs": [],
   "source": [
    "y_pred, y_lower, y_upper = DJ_model.predict(X_test, coverage=.95)"
   ]
  },
  {
   "cell_type": "code",
   "execution_count": 695,
   "metadata": {
    "collapsed": false
   },
   "outputs": [
    {
     "data": {
      "image/png": "[encoded data removed]",
      "text/plain": [
       "<Figure size 432x288 with 1 Axes>"
      ]
     },
     "metadata": {
      "needs_background": "light"
     },
     "output_type": "display_data"
    }
   ],
   "source": [
    "plt.plot(X_test, model.predict(X_test), color=\"r\", linestyle=\"--\")\n",
    "plt.fill_between(X_test.reshape((-1,)), y_lower, y_upper, alpha=0.15, color=\"r\", linestyle=\":\")\n",
    "plt.plot(X_test, y_lower, linestyle=\"--\", color=\"black\")\n",
    "plt.plot(X_test, y_upper, linestyle=\"--\", color=\"black\")\n",
    "\n",
    "plt.plot(X_test, Y_test, linewidth=3, color=\"b\")\n",
    "plt.scatter(X_train, Y_train, alpha=0.45, color=\"r\")\n",
    "\n",
    "plt.xlim(-2, 2)\n",
    "plt.ylim(-10, 10)\n",
    "#plt.xlim(-6, 6)\n",
    "#plt.ylim(-20, 20)\n",
    "\n",
    "plt.tight_layout()\n",
    "plt.savefig(\"DJ_synth_9.png\", dpi=5000)"
   ]
  },
  {
   "cell_type": "code",
   "execution_count": 438,
   "metadata": {
    "collapsed": false
   },
   "outputs": [],
   "source": [
    "#results_synth_1 = dict({\"normal_sigma_2_n_100\": None, # coverage, order=1\n",
    "#                        \"uniform_sigma_1\": None,\n",
    "#                        \"uniform_sigma_5\": None,\n",
    "#                        \"uniform_sigma_10\": None})"
   ]
  },
  {
   "cell_type": "code",
   "execution_count": 434,
   "metadata": {
    "collapsed": false
   },
   "outputs": [],
   "source": [
    "dresult_dict    = dict({\"Model\": model, \"X train\": X_train, \"Y train\": Y_train,\n",
    "                        \"X test\": X_test, \"Y test\": Y_test})"
   ]
  },
  {
   "cell_type": "code",
   "execution_count": 607,
   "metadata": {
    "collapsed": true
   },
   "outputs": [],
   "source": [
    "#results_synth_1[\"normal_sigma_2_n_100\"] = dresult_dict \n",
    "\n",
    "results_synth_1[\"uniform_sigma_10\"] = dresult_dict "
   ]
  },
  {
   "cell_type": "code",
   "execution_count": 608,
   "metadata": {
    "collapsed": true
   },
   "outputs": [],
   "source": [
    "# Q + Q"
   ]
  },
  {
   "cell_type": "code",
   "execution_count": 672,
   "metadata": {
    "collapsed": true
   },
   "outputs": [],
   "source": [
    "DJ_file_results = open('DJ_Experiment_1_results', 'wb')\n",
    "\n",
    "pickle.dump(results_synth_1, DJ_file_results)"
   ]
  },
  {
   "cell_type": "code",
   "execution_count": null,
   "metadata": {
    "collapsed": false
   },
   "outputs": [],
   "source": []
  },
  {
   "cell_type": "code",
   "execution_count": null,
   "metadata": {
    "collapsed": true
   },
   "outputs": [],
   "source": []
  }
 ],
 "metadata": {
  "kernelspec": {
   "display_name": "tensorflow",
   "language": "python",
   "name": "tensorflow"
  },
  "language_info": {
   "codemirror_mode": {
    "name": "ipython",
    "version": 3
   },
   "file_extension": ".py",
   "mimetype": "text/x-python",
   "name": "python",
   "nbconvert_exporter": "python",
   "pygments_lexer": "ipython3",
   "version": "3.6.1"
  }
 },
 "nbformat": 4,
 "nbformat_minor": 2
}
